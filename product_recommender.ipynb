{
 "cells": [
  {
   "cell_type": "markdown",
   "metadata": {},
   "source": [
    "## **Product Recommender Example**\n",
    "\n",
    "In this example, we started with the out-of-the-box recommender model from the Skafos iOS Quickstart flow and modified it for a different use-case.\n",
    "\n",
    "---\n",
    "\n",
    "Execute each cell one-by-one, by selecting the cell and do one of the following:\n",
    "\n",
    "-  Clicking the \"play\" button at the top of this frame.\n",
    "-  Typing 'Control + Enter' or 'Shift + Enter'."
   ]
  },
  {
   "cell_type": "code",
   "execution_count": null,
   "metadata": {},
   "outputs": [],
   "source": [
    "# If this is your first time in the JupyterLab workspace - install external dependencies\n",
    "from utilities.dependencies import install\n",
    "install(timeout=500)\n",
    "\n",
    "# No need to do this in the future for this notebook"
   ]
  },
  {
   "cell_type": "code",
   "execution_count": null,
   "metadata": {},
   "outputs": [],
   "source": [
    "# Import necessary libraries\n",
    "import os\n",
    "import json\n",
    "import random\n",
    "from time import sleep\n",
    "\n",
    "from tqdm import tqdm\n",
    "import pandas as pd\n",
    "from skafossdk import *\n",
    "import turicreate as tc\n",
    "\n",
    "import utilities.save_models as sm\n",
    "from utilities.thingiverse import Thingiverse"
   ]
  },
  {
   "cell_type": "code",
   "execution_count": null,
   "metadata": {},
   "outputs": [],
   "source": [
    "# Connect to thingiverse API\n",
    "# Make sure you have env vars set for you API creds\n",
    "tv = Thingiverse(\n",
    "    appinfo={\n",
    "        'client_id': os.environ['CLIENT_ID'],\n",
    "        'client_secret': os.environ['CLIENT_SECRET']\n",
    "    }\n",
    ")\n",
    "tv.connect(token=os.environ['APP_TOKEN'])"
   ]
  },
  {
   "cell_type": "code",
   "execution_count": null,
   "metadata": {},
   "outputs": [],
   "source": [
    "# Grab a bunch of \"Things\" - need a starting point\n",
    "popular = tv.get_popular_things()\n",
    "featured = tv.get_featured_things()\n",
    "newest = tv.get_newest_things()\n",
    "\n",
    "things_starting_list = popular + featured + newest\n",
    "thing_ids = set([thing['id'] for thing in things_starting_list])\n",
    "print(f'Retrieved a list of {len(thing_ids)} things from API', flush=True)"
   ]
  },
  {
   "cell_type": "code",
   "execution_count": null,
   "metadata": {},
   "outputs": [],
   "source": [
    "# Go out and get all the users who like these starting products\n",
    "thing_likes = {}\n",
    "\n",
    "for thing_id in tqdm(thing_ids):\n",
    "    try:\n",
    "        user_likes = tv.get_thing_likes(thing_id)\n",
    "        if user_likes:\n",
    "            user_ids = set([user['id'] for user in user_likes])\n",
    "            thing_likes[thing_id] = list(user_ids)\n",
    "    except:\n",
    "        print('skipping')"
   ]
  },
  {
   "cell_type": "code",
   "execution_count": null,
   "metadata": {},
   "outputs": [],
   "source": [
    "# Write data out to file just in case\n",
    "#with open('thing_likes.txt', 'w') as file:\n",
    "#     file.write(json.dumps(thing_likes))"
   ]
  },
  {
   "cell_type": "code",
   "execution_count": null,
   "metadata": {},
   "outputs": [],
   "source": [
    "# Grab a small sample of users from the full group\n",
    "sample = 2000\n",
    "all_user_ids = set(u for vals in thing_likes.values() for u in vals)\n",
    "sampled_ids = random.sample(all_user_ids, 2000)\n",
    "print(f'Gathering user likes for {sample/len(all_user_ids)} percent of user ids', flush=True)"
   ]
  },
  {
   "cell_type": "code",
   "execution_count": null,
   "metadata": {},
   "outputs": [],
   "source": [
    "# Now do a reverse search on users to get items they liked\n",
    "user_likes = {}\n",
    "for user_id in tqdm(sampled_ids):\n",
    "    try:\n",
    "        things_liked = tv.get_likes_user(user_id)\n",
    "        if things_liked:\n",
    "            things_liked_ids = list(set(thing['id'] for thing in things_liked))\n",
    "            user_likes[user_id] = things_liked_ids\n",
    "            sleep(.3)\n",
    "    except:\n",
    "        print('skipping')\n",
    "        continue\n",
    "        sleep(1)"
   ]
  },
  {
   "cell_type": "code",
   "execution_count": null,
   "metadata": {},
   "outputs": [],
   "source": [
    "# Convert data to a dataframe\n",
    "cols = ['userId', 'thingId']\n",
    "user_likes_df = pd.DataFrame([(k, v) for k in user_likes for v in user_likes[k]], columns=cols)\n",
    "thing_likes_df = pd.DataFrame([(k, v) for k in thing_likes for v in thing_likes[k]], columns=['thingId', 'userId'])\n",
    "likes = pd.concat((user_likes_df[cols], thing_likes_df[cols]), axis=0)"
   ]
  },
  {
   "cell_type": "code",
   "execution_count": null,
   "metadata": {},
   "outputs": [],
   "source": [
    "likes.head()"
   ]
  },
  {
   "cell_type": "code",
   "execution_count": null,
   "metadata": {},
   "outputs": [],
   "source": [
    "# Filter down the dataframe to include users who have liked atleast 5 things\n",
    "like_threshold = 5\n",
    "likes = likes.groupby(\"userId\").filter(lambda x: len(x) > 5)"
   ]
  },
  {
   "cell_type": "markdown",
   "metadata": {},
   "source": [
    "### 2. **Build the model**\n",
    "We use the `tc.recommender.create` function (default) and specify the data, user id, and item id to properly train the model. To understand more about this specific function, check out the [Turi Create Documentation](https://apple.github.io/turicreate/docs/userguide/recommender/)."
   ]
  },
  {
   "cell_type": "code",
   "execution_count": null,
   "metadata": {},
   "outputs": [],
   "source": [
    "# Train the default recommender\n",
    "model = tc.recommender.create(\n",
    "    observation_data=tc.SFrame(likes),\n",
    "    user_id='userId',\n",
    "    item_id='thingId'\n",
    ")"
   ]
  },
  {
   "cell_type": "code",
   "execution_count": null,
   "metadata": {},
   "outputs": [],
   "source": [
    "# Make a recommendation to a known user \n",
    "# k ~ is the number of recommendations to generate\n",
    "model.recommend(\n",
    "    users=[likes['userId'][0]],\n",
    "    k=5\n",
    ")"
   ]
  },
  {
   "cell_type": "code",
   "execution_count": null,
   "metadata": {},
   "outputs": [],
   "source": [
    "# Make a recommendation to a new (unknown) user - returns most popular things\n",
    "model.recommend(\n",
    "    users=[9999999999],\n",
    "    k=5\n",
    ")"
   ]
  },
  {
   "cell_type": "markdown",
   "metadata": {},
   "source": [
    "### 3. **Save the model**\n",
    "Once your model has been created, it must be saved to the Skafos framework via the code below. This will trigger a push to your mobile app."
   ]
  },
  {
   "cell_type": "code",
   "execution_count": null,
   "metadata": {},
   "outputs": [],
   "source": [
    "## Export to coreml\n",
    "ska = Skafos()\n",
    "\n",
    "# Specify the CoreML model name\n",
    "coreml_model_name = 'ProductRecommender.mlmodel'\n",
    "# Specify the name of the compressed model we save to Skafos\n",
    "compressed_model_name = coreml_model_name + \".gz\" \n",
    "\n",
    "# Export the trained model to CoreML format\n",
    "res = model.export_coreml(coreml_model_name) \n",
    "\n",
    "# Compress the model\n",
    "compressed_model = sm.compress_model(coreml_model_name)\n",
    "\n",
    "# Save to Skafos\n",
    "sm.skafos_save_model(\n",
    "    skafos=ska,\n",
    "    model_name=compressed_model_name,\n",
    "    compressed_model=compressed_model,\n",
    "    permissions='public'\n",
    ")"
   ]
  }
 ],
 "metadata": {
  "kernelspec": {
   "display_name": "Python 3",
   "language": "python",
   "name": "python3"
  },
  "language_info": {
   "codemirror_mode": {
    "name": "ipython",
    "version": 3
   },
   "file_extension": ".py",
   "mimetype": "text/x-python",
   "name": "python",
   "nbconvert_exporter": "python",
   "pygments_lexer": "ipython3",
   "version": "3.6.5"
  }
 },
 "nbformat": 4,
 "nbformat_minor": 2
}
